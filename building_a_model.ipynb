{
 "cells": [
  {
   "cell_type": "markdown",
   "metadata": {},
   "source": [
    "# Building a Model\n",
    "\n",
    "This notebook follows [3. Building a Model](https://cobrapy.readthedocs.io/en/latest/building_model.html)"
   ]
  },
  {
   "cell_type": "code",
   "execution_count": 1,
   "metadata": {},
   "outputs": [],
   "source": [
    "from cobra import Model, Reaction, Metabolite"
   ]
  },
  {
   "cell_type": "code",
   "execution_count": 2,
   "metadata": {},
   "outputs": [],
   "source": [
    "model = Model('example_model')\n",
    "reaction = Reaction('R_3OAS140')\n",
    "reaction.name = '3 oxoacyl acyl carrier protein synthase n C140 '\n",
    "reaction.subsystem = 'Cell Envelope Biosynthesis'\n",
    "reaction.lower_bound = 0.  # This is the default\n",
    "reaction.upper_bound = 1000.  # This is the default"
   ]
  },
  {
   "cell_type": "code",
   "execution_count": 3,
   "metadata": {},
   "outputs": [],
   "source": [
    "ACP_c = Metabolite(\n",
    "    'ACP_c',\n",
    "    formula='C11H21N2O7PRS',\n",
    "    name='acyl-carrier-protein',\n",
    "    compartment='c')\n",
    "omrsACP_c = Metabolite(\n",
    "    'M3omrsACP_c',\n",
    "    formula='C25H45N2O9PRS',\n",
    "    name='3-Oxotetradecanoyl-acyl-carrier-protein',\n",
    "    compartment='c')\n",
    "co2_c = Metabolite('co2_c', formula='CO2', name='CO2', compartment='c')\n",
    "malACP_c = Metabolite(\n",
    "    'malACP_c',\n",
    "    formula='C14H22N2O10PRS',\n",
    "    name='Malonyl-acyl-carrier-protein',\n",
    "    compartment='c')\n",
    "h_c = Metabolite('h_c', formula='H', name='H', compartment='c')\n",
    "ddcaACP_c = Metabolite(\n",
    "    'ddcaACP_c',\n",
    "    formula='C23H43N2O8PRS',\n",
    "    name='Dodecanoyl-ACP-n-C120ACP',\n",
    "    compartment='c')"
   ]
  },
  {
   "cell_type": "code",
   "execution_count": 4,
   "metadata": {},
   "outputs": [
    {
     "data": {
      "text/plain": [
       "'ddcaACP_c + h_c + malACP_c --> ACP_c + M3omrsACP_c + co2_c'"
      ]
     },
     "execution_count": 4,
     "metadata": {},
     "output_type": "execute_result"
    }
   ],
   "source": [
    "reaction.add_metabolites({\n",
    "    malACP_c: -1.0,\n",
    "    h_c: -1.0,\n",
    "    ddcaACP_c: -1.0,\n",
    "    co2_c: 1.0,\n",
    "    ACP_c: 1.0,\n",
    "    omrsACP_c: 1.0\n",
    "})\n",
    "\n",
    "reaction.reaction"
   ]
  },
  {
   "cell_type": "code",
   "execution_count": 5,
   "metadata": {},
   "outputs": [
    {
     "data": {
      "text/plain": [
       "frozenset({<Gene STM1197 at 0x152b7b76ad0>, <Gene STM2378 at 0x152b7b77fd0>})"
      ]
     },
     "execution_count": 5,
     "metadata": {},
     "output_type": "execute_result"
    }
   ],
   "source": [
    "reaction.gene_reaction_rule = '( STM2378 or STM1197 )'\n",
    "reaction.genes"
   ]
  },
  {
   "cell_type": "code",
   "execution_count": 6,
   "metadata": {},
   "outputs": [
    {
     "name": "stdout",
     "output_type": "stream",
     "text": [
      "0 reactions initially\n",
      "0 metabolites initially\n",
      "0 genes initially\n"
     ]
    }
   ],
   "source": [
    "print(f'{len(model.reactions)} reactions initially')\n",
    "print(f'{len(model.metabolites)} metabolites initially')\n",
    "print(f'{len(model.genes)} genes initially')"
   ]
  },
  {
   "cell_type": "code",
   "execution_count": 7,
   "metadata": {},
   "outputs": [
    {
     "name": "stdout",
     "output_type": "stream",
     "text": [
      "1 reactions\n",
      "6 metabolites\n",
      "2 genes\n"
     ]
    }
   ],
   "source": [
    "model.add_reactions([reaction])\n",
    "\n",
    "# The objects have been added to the model\n",
    "print(f'{len(model.reactions)} reactions')\n",
    "print(f'{len(model.metabolites)} metabolites')\n",
    "print(f'{len(model.genes)} genes')"
   ]
  },
  {
   "cell_type": "code",
   "execution_count": 8,
   "metadata": {},
   "outputs": [
    {
     "name": "stdout",
     "output_type": "stream",
     "text": [
      "Reactions\n",
      "R_3OAS140: ddcaACP_c + h_c + malACP_c --> ACP_c + M3omrsACP_c + co2_c\n"
     ]
    }
   ],
   "source": [
    "print('Reactions')\n",
    "for r in model.reactions:\n",
    "    print(f'{r.id}: {r.reaction}')"
   ]
  },
  {
   "cell_type": "code",
   "execution_count": null,
   "metadata": {},
   "outputs": [],
   "source": []
  }
 ],
 "metadata": {
  "kernelspec": {
   "display_name": "Python 3",
   "language": "python",
   "name": "python3"
  },
  "language_info": {
   "codemirror_mode": {
    "name": "ipython",
    "version": 3
   },
   "file_extension": ".py",
   "mimetype": "text/x-python",
   "name": "python",
   "nbconvert_exporter": "python",
   "pygments_lexer": "ipython3",
   "version": "3.11.7"
  }
 },
 "nbformat": 4,
 "nbformat_minor": 2
}
