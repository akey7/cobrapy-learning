{
 "cells": [
  {
   "cell_type": "markdown",
   "metadata": {},
   "source": [
    "# Getting Started\n",
    "\n",
    "This notebook follows [1. Getting Started](https://cobrapy.readthedocs.io/en/latest/getting_started.html)"
   ]
  },
  {
   "cell_type": "code",
   "execution_count": 1,
   "metadata": {},
   "outputs": [],
   "source": [
    "import cobra\n",
    "from cobra.io import load_model\n",
    "\n",
    "# \"iJO1366\" and \"salmonella\" are also valid arguments\n",
    "model = load_model(\"textbook\")"
   ]
  },
  {
   "cell_type": "code",
   "execution_count": 2,
   "metadata": {},
   "outputs": [
    {
     "name": "stdout",
     "output_type": "stream",
     "text": [
      "95\n",
      "72\n",
      "137\n"
     ]
    }
   ],
   "source": [
    "print(len(model.reactions))\n",
    "print(len(model.metabolites))\n",
    "print(len(model.genes))"
   ]
  },
  {
   "cell_type": "code",
   "execution_count": 3,
   "metadata": {},
   "outputs": [
    {
     "data": {
      "text/html": [
       "\n",
       "        <table>\n",
       "            <tr>\n",
       "                <td><strong>Name</strong></td>\n",
       "                <td>e_coli_core</td>\n",
       "            </tr><tr>\n",
       "                <td><strong>Memory address</strong></td>\n",
       "                <td>1d69a2b5b90</td>\n",
       "            </tr><tr>\n",
       "                <td><strong>Number of metabolites</strong></td>\n",
       "                <td>72</td>\n",
       "            </tr><tr>\n",
       "                <td><strong>Number of reactions</strong></td>\n",
       "                <td>95</td>\n",
       "            </tr><tr>\n",
       "                <td><strong>Number of genes</strong></td>\n",
       "                <td>137</td>\n",
       "            </tr><tr>\n",
       "                <td><strong>Number of groups</strong></td>\n",
       "                <td>0</td>\n",
       "            </tr><tr>\n",
       "                <td><strong>Objective expression</strong></td>\n",
       "                <td>1.0*Biomass_Ecoli_core - 1.0*Biomass_Ecoli_core_reverse_2cdba</td>\n",
       "            </tr><tr>\n",
       "                <td><strong>Compartments</strong></td>\n",
       "                <td>cytosol, extracellular</td>\n",
       "            </tr>\n",
       "          </table>"
      ],
      "text/plain": [
       "<Model e_coli_core at 0x1d69a2b5b90>"
      ]
     },
     "execution_count": 3,
     "metadata": {},
     "output_type": "execute_result"
    }
   ],
   "source": [
    "model"
   ]
  },
  {
   "cell_type": "code",
   "execution_count": 4,
   "metadata": {},
   "outputs": [
    {
     "data": {
      "text/html": [
       "\n",
       "        <table>\n",
       "            <tr>\n",
       "                <td><strong>Reaction identifier</strong></td><td>EX_glu__L_e</td>\n",
       "            </tr><tr>\n",
       "                <td><strong>Name</strong></td><td>L-Glutamate exchange</td>\n",
       "            </tr><tr>\n",
       "                <td><strong>Memory address</strong></td>\n",
       "                <td>0x1d6a15541d0</td>\n",
       "            </tr><tr>\n",
       "                <td><strong>Stoichiometry</strong></td>\n",
       "                <td>\n",
       "                    <p style='text-align:right'>glu__L_e --></p>\n",
       "                    <p style='text-align:right'>L-Glutamate --></p>\n",
       "                </td>\n",
       "            </tr><tr>\n",
       "                <td><strong>GPR</strong></td><td></td>\n",
       "            </tr><tr>\n",
       "                <td><strong>Lower bound</strong></td><td>0.0</td>\n",
       "            </tr><tr>\n",
       "                <td><strong>Upper bound</strong></td><td>1000.0</td>\n",
       "            </tr>\n",
       "        </table>\n",
       "        "
      ],
      "text/plain": [
       "<Reaction EX_glu__L_e at 0x1d6a15541d0>"
      ]
     },
     "execution_count": 4,
     "metadata": {},
     "output_type": "execute_result"
    }
   ],
   "source": [
    "model.reactions[29]"
   ]
  },
  {
   "cell_type": "code",
   "execution_count": 5,
   "metadata": {},
   "outputs": [
    {
     "data": {
      "text/html": [
       "\n",
       "        <table>\n",
       "            <tr>\n",
       "                <td><strong>Metabolite identifier</strong></td><td>atp_c</td>\n",
       "            </tr><tr>\n",
       "                <td><strong>Name</strong></td><td>ATP</td>\n",
       "            </tr><tr>\n",
       "                <td><strong>Memory address</strong></td>\n",
       "                <td>0x1d6a17cc090</td>\n",
       "            </tr><tr>\n",
       "                <td><strong>Formula</strong></td><td>C10H12N5O13P3</td>\n",
       "            </tr><tr>\n",
       "                <td><strong>Compartment</strong></td><td>c</td>\n",
       "            </tr><tr>\n",
       "                <td><strong>In 13 reaction(s)</strong></td><td>\n",
       "                    ADK1, SUCOAS, ATPS4r, GLNabc, PPS, ATPM, PGK, GLNS, ACKr, PPCK, Biomass_Ecoli_core, PFK, PYK\n",
       "                    </td>\n",
       "            </tr>\n",
       "        </table>"
      ],
      "text/plain": [
       "<Metabolite atp_c at 0x1d6a17cc090>"
      ]
     },
     "execution_count": 5,
     "metadata": {},
     "output_type": "execute_result"
    }
   ],
   "source": [
    "model.metabolites.get_by_id(\"atp_c\")"
   ]
  },
  {
   "cell_type": "code",
   "execution_count": 6,
   "metadata": {},
   "outputs": [
    {
     "data": {
      "text/html": [
       "\n",
       "        <table>\n",
       "            <tr>\n",
       "                <td><strong>Reaction identifier</strong></td><td>PGI</td>\n",
       "            </tr><tr>\n",
       "                <td><strong>Name</strong></td><td>glucose-6-phosphate isomerase</td>\n",
       "            </tr><tr>\n",
       "                <td><strong>Memory address</strong></td>\n",
       "                <td>0x1d6a15f2c50</td>\n",
       "            </tr><tr>\n",
       "                <td><strong>Stoichiometry</strong></td>\n",
       "                <td>\n",
       "                    <p style='text-align:right'>g6p_c <=> f6p_c</p>\n",
       "                    <p style='text-align:right'>D-Glucose 6-phosphate <=> D-Fructose 6-phosphate</p>\n",
       "                </td>\n",
       "            </tr><tr>\n",
       "                <td><strong>GPR</strong></td><td>b4025</td>\n",
       "            </tr><tr>\n",
       "                <td><strong>Lower bound</strong></td><td>-1000.0</td>\n",
       "            </tr><tr>\n",
       "                <td><strong>Upper bound</strong></td><td>1000.0</td>\n",
       "            </tr>\n",
       "        </table>\n",
       "        "
      ],
      "text/plain": [
       "<Reaction PGI at 0x1d6a15f2c50>"
      ]
     },
     "execution_count": 6,
     "metadata": {},
     "output_type": "execute_result"
    }
   ],
   "source": [
    "pgi = model.reactions.get_by_id(\"PGI\")\n",
    "pgi"
   ]
  },
  {
   "cell_type": "code",
   "execution_count": 7,
   "metadata": {},
   "outputs": [
    {
     "name": "stdout",
     "output_type": "stream",
     "text": [
      "glucose-6-phosphate isomerase\n",
      "g6p_c <=> f6p_c\n"
     ]
    }
   ],
   "source": [
    "print(pgi.name)\n",
    "print(pgi.reaction)"
   ]
  },
  {
   "cell_type": "code",
   "execution_count": 8,
   "metadata": {},
   "outputs": [
    {
     "name": "stdout",
     "output_type": "stream",
     "text": [
      "-1000.0 < pgi < 1000.0\n",
      "True\n"
     ]
    }
   ],
   "source": [
    "print(pgi.lower_bound, \"< pgi <\", pgi.upper_bound)\n",
    "print(pgi.reversibility)"
   ]
  },
  {
   "cell_type": "code",
   "execution_count": 9,
   "metadata": {},
   "outputs": [
    {
     "name": "stdout",
     "output_type": "stream",
     "text": [
      "0 < pgi < 1000.0\n",
      "Reversibility after modification: False\n",
      "Reversibility after resetting: True\n"
     ]
    }
   ],
   "source": [
    "old_bounds = pgi.bounds\n",
    "pgi.bounds = (0, 1000.0)\n",
    "print(pgi.lower_bound, \"< pgi <\", pgi.upper_bound)\n",
    "print(\"Reversibility after modification:\", pgi.reversibility)\n",
    "pgi.bounds = old_bounds\n",
    "print(\"Reversibility after resetting:\", pgi.reversibility)"
   ]
  },
  {
   "cell_type": "code",
   "execution_count": 10,
   "metadata": {},
   "outputs": [
    {
     "data": {
      "text/plain": [
       "{}"
      ]
     },
     "execution_count": 10,
     "metadata": {},
     "output_type": "execute_result"
    }
   ],
   "source": [
    "pgi.check_mass_balance()"
   ]
  },
  {
   "cell_type": "code",
   "execution_count": 11,
   "metadata": {},
   "outputs": [
    {
     "data": {
      "text/plain": [
       "'g6p_c + h_c <=> f6p_c'"
      ]
     },
     "execution_count": 11,
     "metadata": {},
     "output_type": "execute_result"
    }
   ],
   "source": [
    "pgi.add_metabolites({model.metabolites.get_by_id(\"h_c\"): -1})\n",
    "pgi.reaction"
   ]
  },
  {
   "cell_type": "code",
   "execution_count": 12,
   "metadata": {},
   "outputs": [
    {
     "data": {
      "text/plain": [
       "{'charge': -1.0, 'H': -1.0}"
      ]
     },
     "execution_count": 12,
     "metadata": {},
     "output_type": "execute_result"
    }
   ],
   "source": [
    "pgi.check_mass_balance()"
   ]
  },
  {
   "cell_type": "code",
   "execution_count": 13,
   "metadata": {},
   "outputs": [
    {
     "name": "stdout",
     "output_type": "stream",
     "text": [
      "g6p_c <=> f6p_c\n",
      "{}\n"
     ]
    }
   ],
   "source": [
    "pgi.subtract_metabolites({model.metabolites.get_by_id(\"h_c\"): -1})\n",
    "print(pgi.reaction)\n",
    "print(pgi.check_mass_balance())"
   ]
  },
  {
   "cell_type": "code",
   "execution_count": 14,
   "metadata": {},
   "outputs": [
    {
     "name": "stdout",
     "output_type": "stream",
     "text": [
      "unknown metabolite 'green_eggs' created\n",
      "unknown metabolite 'ham' created\n"
     ]
    }
   ],
   "source": [
    "pgi.reaction = \"g6p_c --> f6p_c + h_c + green_eggs + ham\""
   ]
  },
  {
   "cell_type": "code",
   "execution_count": 15,
   "metadata": {},
   "outputs": [
    {
     "data": {
      "text/plain": [
       "'g6p_c --> f6p_c + green_eggs + h_c + ham'"
      ]
     },
     "execution_count": 15,
     "metadata": {},
     "output_type": "execute_result"
    }
   ],
   "source": [
    "pgi.reaction"
   ]
  },
  {
   "cell_type": "code",
   "execution_count": 16,
   "metadata": {},
   "outputs": [
    {
     "data": {
      "text/plain": [
       "'g6p_c <=> f6p_c'"
      ]
     },
     "execution_count": 16,
     "metadata": {},
     "output_type": "execute_result"
    }
   ],
   "source": [
    "pgi.reaction = \"g6p_c <=> f6p_c\"\n",
    "pgi.reaction"
   ]
  },
  {
   "cell_type": "code",
   "execution_count": 17,
   "metadata": {},
   "outputs": [
    {
     "data": {
      "text/html": [
       "\n",
       "        <table>\n",
       "            <tr>\n",
       "                <td><strong>Metabolite identifier</strong></td><td>atp_c</td>\n",
       "            </tr><tr>\n",
       "                <td><strong>Name</strong></td><td>ATP</td>\n",
       "            </tr><tr>\n",
       "                <td><strong>Memory address</strong></td>\n",
       "                <td>0x1d6a17cc090</td>\n",
       "            </tr><tr>\n",
       "                <td><strong>Formula</strong></td><td>C10H12N5O13P3</td>\n",
       "            </tr><tr>\n",
       "                <td><strong>Compartment</strong></td><td>c</td>\n",
       "            </tr><tr>\n",
       "                <td><strong>In 13 reaction(s)</strong></td><td>\n",
       "                    ADK1, SUCOAS, ATPS4r, GLNabc, PPS, ATPM, PGK, GLNS, ACKr, PPCK, Biomass_Ecoli_core, PFK, PYK\n",
       "                    </td>\n",
       "            </tr>\n",
       "        </table>"
      ],
      "text/plain": [
       "<Metabolite atp_c at 0x1d6a17cc090>"
      ]
     },
     "execution_count": 17,
     "metadata": {},
     "output_type": "execute_result"
    }
   ],
   "source": [
    "atp = model.metabolites.get_by_id(\"atp_c\")\n",
    "atp"
   ]
  },
  {
   "cell_type": "code",
   "execution_count": 18,
   "metadata": {},
   "outputs": [
    {
     "name": "stdout",
     "output_type": "stream",
     "text": [
      "ATP\n"
     ]
    }
   ],
   "source": [
    "print(atp.name)"
   ]
  },
  {
   "cell_type": "code",
   "execution_count": 19,
   "metadata": {},
   "outputs": [
    {
     "name": "stdout",
     "output_type": "stream",
     "text": [
      "c\n"
     ]
    }
   ],
   "source": [
    "print(atp.compartment)"
   ]
  },
  {
   "cell_type": "code",
   "execution_count": 20,
   "metadata": {},
   "outputs": [
    {
     "data": {
      "text/plain": [
       "-4"
      ]
     },
     "execution_count": 20,
     "metadata": {},
     "output_type": "execute_result"
    }
   ],
   "source": [
    "atp.charge"
   ]
  },
  {
   "cell_type": "code",
   "execution_count": 21,
   "metadata": {},
   "outputs": [
    {
     "data": {
      "text/plain": [
       "'C10H12N5O13P3'"
      ]
     },
     "execution_count": 21,
     "metadata": {},
     "output_type": "execute_result"
    }
   ],
   "source": [
    "atp.formula"
   ]
  },
  {
   "cell_type": "code",
   "execution_count": 22,
   "metadata": {},
   "outputs": [
    {
     "data": {
      "text/plain": [
       "frozenset({<Reaction ACKr at 0x1d6a181bd50>,\n",
       "           <Reaction ADK1 at 0x1d6a1779a10>,\n",
       "           <Reaction ATPM at 0x1d6a1823c90>,\n",
       "           <Reaction ATPS4r at 0x1d6a1828f90>,\n",
       "           <Reaction Biomass_Ecoli_core at 0x1d6a154f590>,\n",
       "           <Reaction GLNS at 0x1d6a15b5f90>,\n",
       "           <Reaction GLNabc at 0x1d6a162f450>,\n",
       "           <Reaction PFK at 0x1d6a15f29d0>,\n",
       "           <Reaction PGK at 0x1d69aa61e90>,\n",
       "           <Reaction PPCK at 0x1d6a15f2f90>,\n",
       "           <Reaction PPS at 0x1d6a15e1c50>,\n",
       "           <Reaction PYK at 0x1d6a15d4390>,\n",
       "           <Reaction SUCOAS at 0x1d6a15ca410>})"
      ]
     },
     "execution_count": 22,
     "metadata": {},
     "output_type": "execute_result"
    }
   ],
   "source": [
    "atp.reactions"
   ]
  },
  {
   "cell_type": "code",
   "execution_count": 23,
   "metadata": {},
   "outputs": [
    {
     "data": {
      "text/plain": [
       "frozenset({<Gene b4025 at 0x1d6a1813a10>})"
      ]
     },
     "execution_count": 23,
     "metadata": {},
     "output_type": "execute_result"
    }
   ],
   "source": [
    "pgi.genes"
   ]
  },
  {
   "cell_type": "code",
   "execution_count": 24,
   "metadata": {},
   "outputs": [
    {
     "data": {
      "text/html": [
       "\n",
       "        <table>\n",
       "            <tr>\n",
       "                <td><strong>Gene identifier</strong></td><td>b4025</td>\n",
       "            </tr><tr>\n",
       "                <td><strong>Name</strong></td><td>pgi</td>\n",
       "            </tr><tr>\n",
       "                <td><strong>Memory address</strong></td>\n",
       "                <td>0x1d6a1813a10</td>\n",
       "            </tr><tr>\n",
       "                <td><strong>Functional</strong></td><td>True</td>\n",
       "            </tr><tr>\n",
       "                <td><strong>In 1 reaction(s)</strong></td><td>\n",
       "                    PGI\n",
       "                    </td>\n",
       "            </tr>\n",
       "        </table>"
      ],
      "text/plain": [
       "<Gene b4025 at 0x1d6a1813a10>"
      ]
     },
     "execution_count": 24,
     "metadata": {},
     "output_type": "execute_result"
    }
   ],
   "source": [
    "model.genes.get_by_id(\"b4025\")"
   ]
  },
  {
   "cell_type": "code",
   "execution_count": 30,
   "metadata": {},
   "outputs": [
    {
     "name": "stdout",
     "output_type": "stream",
     "text": [
      "ACALD blocked (bounds: (0, 0)), 0.8739215069684279\n",
      "ACALDt blocked (bounds: (0, 0)), 0.8739215069684305\n",
      "ACKr blocked (bounds: (0, 0)), 0.8739215069684305\n",
      "ACONTa blocked (bounds: (0, 0)), -5.567065524108516e-15\n",
      "ACONTb blocked (bounds: (0, 0)), -3.6927566298143634e-16\n",
      "ACt2r blocked (bounds: (0, 0)), 0.8739215069684306\n",
      "ADK1 blocked (bounds: (0, 0)), 0.8739215069684307\n",
      "AKGDH blocked (bounds: (0, 0)), 0.8583074080226881\n",
      "AKGt2r blocked (bounds: (0, 0)), 0.8739215069684305\n",
      "ALCD2x blocked (bounds: (0, 0)), 0.8739215069684305\n",
      "ATPM blocked (bounds: (0, 0)), 0.9166474637510491\n",
      "ATPS4r blocked (bounds: (0, 0)), 0.3742298749331099\n",
      "Biomass_Ecoli_core blocked (bounds: (0, 0)), 0.0\n",
      "CO2t blocked (bounds: (0, 0)), 0.46166961416013436\n",
      "CS blocked (bounds: (0, 0)), 1.990730298768902e-16\n",
      "CYTBD blocked (bounds: (0, 0)), 0.21166294973531047\n",
      "D_LACt2 blocked (bounds: (0, 0)), 0.8739215069684311\n",
      "ENO blocked (bounds: (0, 0)), 1.5208622319983277e-15\n",
      "ETOHt2r blocked (bounds: (0, 0)), 0.8739215069684303\n",
      "EX_ac_e blocked (bounds: (0, 0)), 0.8739215069684305\n",
      "EX_acald_e blocked (bounds: (0, 0)), 0.8739215069684305\n",
      "EX_akg_e blocked (bounds: (0, 0)), 0.8739215069684305\n",
      "EX_co2_e blocked (bounds: (0, 0)), 0.4616696141601349\n",
      "EX_etoh_e blocked (bounds: (0, 0)), 0.8739215069684313\n",
      "EX_for_e blocked (bounds: (0, 0)), 0.8739215069684305\n",
      "EX_fru_e blocked (bounds: (0, 0)), 0.8739215069684305\n",
      "EX_fum_e blocked (bounds: (0, 0)), 0.8739215069684305\n",
      "EX_glc__D_e blocked (bounds: (0, 0)), -0.04531208903852499\n",
      "EX_gln__L_e blocked (bounds: (0, 0)), 0.8739215069684305\n",
      "EX_glu__L_e blocked (bounds: (0, 0)), 0.8739215069684305\n",
      "EX_h_e blocked (bounds: (0, 0)), -1.6862146115041317e-15\n",
      "EX_h2o_e blocked (bounds: (0, 0)), 0.38351544929678105\n",
      "EX_lac__D_e blocked (bounds: (0, 0)), 0.8739215069684307\n",
      "EX_mal__L_e blocked (bounds: (0, 0)), 0.8739215069684305\n",
      "EX_nh4_e blocked (bounds: (0, 0)), -1.3489716892033055e-16\n",
      "EX_o2_e blocked (bounds: (0, 0)), 0.21166294973531158\n",
      "EX_pi_e blocked (bounds: (0, 0)), 2.959355352688734e-15\n",
      "EX_pyr_e blocked (bounds: (0, 0)), 0.8739215069684305\n",
      "EX_succ_e blocked (bounds: (0, 0)), 0.8739215069684305\n",
      "FBA blocked (bounds: (0, 0)), 0.7040369478590248\n",
      "FBP blocked (bounds: (0, 0)), 0.8739215069684305\n",
      "FORt2 blocked (bounds: (0, 0)), 0.8739215069684305\n",
      "FORti blocked (bounds: (0, 0)), 0.8739215069684305\n",
      "FRD7 blocked (bounds: (0, 0)), 0.8739215069684305\n",
      "FRUpts2 blocked (bounds: (0, 0)), 0.8739215069684305\n",
      "FUM blocked (bounds: (0, 0)), 0.8142975075325308\n",
      "FUMt2_2 blocked (bounds: (0, 0)), 0.8739215069684305\n",
      "G6PDH2r blocked (bounds: (0, 0)), 0.8638133095040009\n",
      "GAPD blocked (bounds: (0, 0)), 4.5720105671090073e-17\n",
      "GLCpts blocked (bounds: (0, 0)), 0.0\n",
      "GLNS blocked (bounds: (0, 0)), 0.0\n",
      "GLNabc blocked (bounds: (0, 0)), 0.8739215069684305\n",
      "GLUDy blocked (bounds: (0, 0)), 0.851388523346209\n",
      "GLUN blocked (bounds: (0, 0)), 0.8739215069684306\n",
      "GLUSy blocked (bounds: (0, 0)), 0.8739215069684305\n",
      "GLUt2r blocked (bounds: (0, 0)), 0.8739215069684305\n",
      "GND blocked (bounds: (0, 0)), 0.863813309504001\n",
      "H2Ot blocked (bounds: (0, 0)), 0.38351544929678355\n",
      "ICDHyr blocked (bounds: (0, 0)), -1.6588983806409747e-16\n",
      "ICL blocked (bounds: (0, 0)), 0.8739215069684292\n",
      "LDH_D blocked (bounds: (0, 0)), 0.8739215069684305\n",
      "MALS blocked (bounds: (0, 0)), 0.8739215069684305\n",
      "MALt2_2 blocked (bounds: (0, 0)), 0.8739215069684305\n",
      "MDH blocked (bounds: (0, 0)), 0.8258192905969891\n",
      "ME1 blocked (bounds: (0, 0)), 0.8739215069684306\n",
      "ME2 blocked (bounds: (0, 0)), 0.8739215069684305\n",
      "NADH16 blocked (bounds: (0, 0)), 0.21166294973531047\n",
      "NADTRHD blocked (bounds: (0, 0)), 0.8739215069684305\n",
      "NH4t blocked (bounds: (0, 0)), -1.3489716892033055e-16\n",
      "O2t blocked (bounds: (0, 0)), 0.21166294973531136\n",
      "PDH blocked (bounds: (0, 0)), 0.7966959254309566\n",
      "PFK blocked (bounds: (0, 0)), 0.7040369478590236\n",
      "PFL blocked (bounds: (0, 0)), 0.8739215069684307\n",
      "PGI blocked (bounds: (0, 0)), 0.8631595522084181\n",
      "PGK blocked (bounds: (0, 0)), 1.4471852414284364e-16\n",
      "PGL blocked (bounds: (0, 0)), 0.8638133095040013\n",
      "PGM blocked (bounds: (0, 0)), -3.486035698154052e-16\n",
      "PIt2r blocked (bounds: (0, 0)), -9.434000911958191e-16\n",
      "PPC blocked (bounds: (0, 0)), 0.8707448062160268\n",
      "PPCK blocked (bounds: (0, 0)), 0.8739215069684311\n",
      "PPS blocked (bounds: (0, 0)), 0.8739215069684305\n",
      "PTAr blocked (bounds: (0, 0)), 0.8739215069684305\n",
      "PYK blocked (bounds: (0, 0)), 0.8649260179498692\n",
      "PYRt2 blocked (bounds: (0, 0)), 0.873921506968431\n",
      "RPE blocked (bounds: (0, 0)), 0.8657155608953035\n",
      "RPI blocked (bounds: (0, 0)), -3.813805990698504e-16\n",
      "SUCCt2_2 blocked (bounds: (0, 0)), 0.8739215069684306\n",
      "SUCCt3 blocked (bounds: (0, 0)), 0.8739215069684305\n",
      "SUCDi blocked (bounds: (0, 0)), 0.8142975075325308\n",
      "SUCOAS blocked (bounds: (0, 0)), 0.8583074080226886\n",
      "TALA blocked (bounds: (0, 0)), 0.864759154831477\n",
      "THD2 blocked (bounds: (0, 0)), 0.8739215069684305\n",
      "TKT1 blocked (bounds: (0, 0)), 0.8647591548314774\n",
      "TKT2 blocked (bounds: (0, 0)), 0.8666740848328234\n",
      "TPI blocked (bounds: (0, 0)), 0.7040369478590243\n"
     ]
    },
    {
     "name": "stderr",
     "output_type": "stream",
     "text": [
      "d:\\Anaconda3\\envs\\cobrapy-learning\\Lib\\site-packages\\cobra\\util\\solver.py:554: UserWarning: Solver status is 'infeasible'.\n",
      "  warn(f\"Solver status is '{status}'.\", UserWarning)\n"
     ]
    }
   ],
   "source": [
    "model = load_model('textbook')\n",
    "for reaction in model.reactions:\n",
    "    with model as m:\n",
    "        reaction.knock_out()\n",
    "        m.optimize()\n",
    "        print(f'{reaction.id} blocked (bounds: {reaction.bounds}), {model.objective.value}')"
   ]
  },
  {
   "cell_type": "code",
   "execution_count": null,
   "metadata": {},
   "outputs": [],
   "source": []
  }
 ],
 "metadata": {
  "kernelspec": {
   "display_name": "Python 3",
   "language": "python",
   "name": "python3"
  },
  "language_info": {
   "codemirror_mode": {
    "name": "ipython",
    "version": 3
   },
   "file_extension": ".py",
   "mimetype": "text/x-python",
   "name": "python",
   "nbconvert_exporter": "python",
   "pygments_lexer": "ipython3",
   "version": "3.11.7"
  }
 },
 "nbformat": 4,
 "nbformat_minor": 2
}
