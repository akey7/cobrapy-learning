{
 "cells": [
  {
   "cell_type": "markdown",
   "metadata": {},
   "source": [
    "# Production Envelopes\n",
    "\n",
    "Following [7. Production Envelopes](https://cobrapy.readthedocs.io/en/latest/phenotype_phase_plane.html#)"
   ]
  },
  {
   "cell_type": "code",
   "execution_count": 1,
   "metadata": {},
   "outputs": [],
   "source": [
    "from cobra.io import load_model\n",
    "from cobra.flux_analysis import production_envelope\n",
    "\n",
    "model = load_model('textbook')"
   ]
  },
  {
   "cell_type": "code",
   "execution_count": 2,
   "metadata": {},
   "outputs": [
    {
     "data": {
      "text/html": [
       "<div>\n",
       "<style scoped>\n",
       "    .dataframe tbody tr th:only-of-type {\n",
       "        vertical-align: middle;\n",
       "    }\n",
       "\n",
       "    .dataframe tbody tr th {\n",
       "        vertical-align: top;\n",
       "    }\n",
       "\n",
       "    .dataframe thead th {\n",
       "        text-align: right;\n",
       "    }\n",
       "</style>\n",
       "<table border=\"1\" class=\"dataframe\">\n",
       "  <thead>\n",
       "    <tr style=\"text-align: right;\">\n",
       "      <th></th>\n",
       "      <th>carbon_source</th>\n",
       "      <th>flux_minimum</th>\n",
       "      <th>carbon_yield_minimum</th>\n",
       "      <th>mass_yield_minimum</th>\n",
       "      <th>flux_maximum</th>\n",
       "      <th>carbon_yield_maximum</th>\n",
       "      <th>mass_yield_maximum</th>\n",
       "      <th>EX_o2_e</th>\n",
       "    </tr>\n",
       "  </thead>\n",
       "  <tbody>\n",
       "    <tr>\n",
       "      <th>0</th>\n",
       "      <td>EX_glc__D_e</td>\n",
       "      <td>0.0</td>\n",
       "      <td>0.0</td>\n",
       "      <td>0.0</td>\n",
       "      <td>0.000000</td>\n",
       "      <td>0.000000</td>\n",
       "      <td>0.000000</td>\n",
       "      <td>-60.000000</td>\n",
       "    </tr>\n",
       "    <tr>\n",
       "      <th>1</th>\n",
       "      <td>EX_glc__D_e</td>\n",
       "      <td>0.0</td>\n",
       "      <td>0.0</td>\n",
       "      <td>0.0</td>\n",
       "      <td>1.578947</td>\n",
       "      <td>0.052632</td>\n",
       "      <td>0.051748</td>\n",
       "      <td>-56.842105</td>\n",
       "    </tr>\n",
       "    <tr>\n",
       "      <th>2</th>\n",
       "      <td>EX_glc__D_e</td>\n",
       "      <td>0.0</td>\n",
       "      <td>0.0</td>\n",
       "      <td>0.0</td>\n",
       "      <td>3.157895</td>\n",
       "      <td>0.105263</td>\n",
       "      <td>0.103496</td>\n",
       "      <td>-53.684211</td>\n",
       "    </tr>\n",
       "    <tr>\n",
       "      <th>3</th>\n",
       "      <td>EX_glc__D_e</td>\n",
       "      <td>0.0</td>\n",
       "      <td>0.0</td>\n",
       "      <td>0.0</td>\n",
       "      <td>4.736842</td>\n",
       "      <td>0.157895</td>\n",
       "      <td>0.155245</td>\n",
       "      <td>-50.526316</td>\n",
       "    </tr>\n",
       "    <tr>\n",
       "      <th>4</th>\n",
       "      <td>EX_glc__D_e</td>\n",
       "      <td>0.0</td>\n",
       "      <td>0.0</td>\n",
       "      <td>0.0</td>\n",
       "      <td>6.315789</td>\n",
       "      <td>0.210526</td>\n",
       "      <td>0.206993</td>\n",
       "      <td>-47.368421</td>\n",
       "    </tr>\n",
       "  </tbody>\n",
       "</table>\n",
       "</div>"
      ],
      "text/plain": [
       "  carbon_source  flux_minimum  carbon_yield_minimum  mass_yield_minimum  \\\n",
       "0   EX_glc__D_e           0.0                   0.0                 0.0   \n",
       "1   EX_glc__D_e           0.0                   0.0                 0.0   \n",
       "2   EX_glc__D_e           0.0                   0.0                 0.0   \n",
       "3   EX_glc__D_e           0.0                   0.0                 0.0   \n",
       "4   EX_glc__D_e           0.0                   0.0                 0.0   \n",
       "\n",
       "   flux_maximum  carbon_yield_maximum  mass_yield_maximum    EX_o2_e  \n",
       "0      0.000000              0.000000            0.000000 -60.000000  \n",
       "1      1.578947              0.052632            0.051748 -56.842105  \n",
       "2      3.157895              0.105263            0.103496 -53.684211  \n",
       "3      4.736842              0.157895            0.155245 -50.526316  \n",
       "4      6.315789              0.210526            0.206993 -47.368421  "
      ]
     },
     "execution_count": 2,
     "metadata": {},
     "output_type": "execute_result"
    }
   ],
   "source": [
    "prod_env = production_envelope(\n",
    "    model, [\"EX_o2_e\"], objective=\"EX_ac_e\", carbon_sources=\"EX_glc__D_e\")\n",
    "prod_env.head()"
   ]
  },
  {
   "cell_type": "code",
   "execution_count": 3,
   "metadata": {},
   "outputs": [
    {
     "data": {
      "text/plain": [
       "<Axes: xlabel='EX_o2_e'>"
      ]
     },
     "execution_count": 3,
     "metadata": {},
     "output_type": "execute_result"
    },
    {
     "data": {
      "image/png": "[encoded data removed]",
      "text/plain": [
       "<Figure size 640x480 with 1 Axes>"
      ]
     },
     "metadata": {},
     "output_type": "display_data"
    }
   ],
   "source": [
    "prod_env.plot(kind='line', x='EX_o2_e', y='carbon_yield_maximum')"
   ]
  },
  {
   "cell_type": "code",
   "execution_count": null,
   "metadata": {},
   "outputs": [],
   "source": []
  }
 ],
 "metadata": {
  "kernelspec": {
   "display_name": "Python 3",
   "language": "python",
   "name": "python3"
  },
  "language_info": {
   "codemirror_mode": {
    "name": "ipython",
    "version": 3
   },
   "file_extension": ".py",
   "mimetype": "text/x-python",
   "name": "python",
   "nbconvert_exporter": "python",
   "pygments_lexer": "ipython3",
   "version": "3.11.7"
  }
 },
 "nbformat": 4,
 "nbformat_minor": 2
}
